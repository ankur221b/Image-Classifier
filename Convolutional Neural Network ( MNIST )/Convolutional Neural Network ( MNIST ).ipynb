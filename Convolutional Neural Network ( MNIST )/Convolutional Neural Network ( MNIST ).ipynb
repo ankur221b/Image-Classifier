{
  "nbformat": 4,
  "nbformat_minor": 0,
  "metadata": {
    "colab": {
      "name": "Untitled.ipynb",
      "version": "0.3.2",
      "provenance": [],
      "collapsed_sections": []
    },
    "kernelspec": {
      "name": "python3",
      "display_name": "Python 3"
    },
    "accelerator": "GPU"
  },
  "cells": [
    {
      "metadata": {
        "id": "RrJe60Ry6vEt",
        "colab_type": "code",
        "colab": {}
      },
      "cell_type": "code",
      "source": [
        "!pip install -U -q PyDrive\n",
        " \n",
        "from pydrive.auth import GoogleAuth\n",
        "from pydrive.drive import GoogleDrive\n",
        "from google.colab import auth\n",
        "from oauth2client.client import GoogleCredentials\n",
        " \n",
        "# 1. Authenticate and create the PyDrive client.\n",
        "auth.authenticate_user()\n",
        "gauth = GoogleAuth()\n",
        "gauth.credentials = GoogleCredentials.get_application_default()\n",
        "drive = GoogleDrive(gauth)"
      ],
      "execution_count": 0,
      "outputs": []
    },
    {
      "metadata": {
        "id": "eQoxBX3v7Qjk",
        "colab_type": "code",
        "colab": {
          "base_uri": "https://localhost:8080/",
          "height": 134
        },
        "outputId": "2ba171e0-e011-4a18-eba5-ebb1cde4e647"
      },
      "cell_type": "code",
      "source": [
        "file_list = drive.ListFile({'q': \"'16m7knepIB8xAqLlo1mTvbqeEWGyrtsaj' in parents and trashed=false\"}).GetList()\n",
        "for file1 in file_list:\n",
        "  print('title: %s, id: %s' % (file1['title'], file1['id']))\n",
        "\n",
        "  \n",
        "train_downloaded = drive.CreateFile({'id': '18eFL3pb6HwYLUdz8cyMU0SICMpeqA1Xr'})\n",
        "train_downloaded.GetContentFile('train.csv')\n",
        "test_downloaded = drive.CreateFile({'id': '1fMD1Bnn4xSFrRf345_rq1Phd38VlYoKs'})\n",
        "test_downloaded.GetContentFile('test.csv') \n",
        "sample_downloaded = drive.CreateFile({'id': '10WP5Nj83aiD2ZFs3ZKFIOAIsE651_Rml'})\n",
        "sample_downloaded.GetContentFile('sample_submission.csv') "
      ],
      "execution_count": 10,
      "outputs": [
        {
          "output_type": "stream",
          "text": [
            "title: Untitled0.ipynb, id: 1vjCEG2ZJpAMnPDIt1oNaQU_xSdA-xa05\n",
            "title: images.csv, id: 1CZwVwidus6-MN20tp0ZFPRLZzpiNvT5c\n",
            "title: label.csv, id: 181SOoxDqQKjWzyhT3lIpXLBW0GZl0GFo\n",
            "title: img_id.csv, id: 1OwrfT4z-yIg2J_AKEkQGxava3ON3IpEi\n",
            "title: sample_submission.csv, id: 10WP5Nj83aiD2ZFs3ZKFIOAIsE651_Rml\n",
            "title: train.csv, id: 18eFL3pb6HwYLUdz8cyMU0SICMpeqA1Xr\n",
            "title: test.csv, id: 1fMD1Bnn4xSFrRf345_rq1Phd38VlYoKs\n"
          ],
          "name": "stdout"
        }
      ]
    },
    {
      "metadata": {
        "id": "Gi3jR4-lg4T4",
        "colab_type": "text"
      },
      "cell_type": "markdown",
      "source": [
        "# **IMPORT DEPENDENCIES**"
      ]
    },
    {
      "metadata": {
        "id": "qcz1gg0b7pFw",
        "colab_type": "code",
        "colab": {}
      },
      "cell_type": "code",
      "source": [
        "import pandas as pd\n",
        "import numpy as np\n",
        "import matplotlib.pyplot as plt\n",
        "import keras\n",
        "from sklearn.model_selection import train_test_split"
      ],
      "execution_count": 0,
      "outputs": []
    },
    {
      "metadata": {
        "id": "zIZnafUQ8TCl",
        "colab_type": "code",
        "colab": {}
      },
      "cell_type": "code",
      "source": [
        "# reading datasets, can use mnist dataset inbuilt in keras\n",
        "\n",
        "train = pd.read_csv('train.csv')\n",
        "test = pd.read_csv('test.csv')"
      ],
      "execution_count": 0,
      "outputs": []
    },
    {
      "metadata": {
        "id": "fJkMNN3995H8",
        "colab_type": "code",
        "colab": {}
      },
      "cell_type": "code",
      "source": [
        "# converting pandas dataframe to numpy arrays\n",
        "\n",
        "Y = train['label'].values\n",
        "X = train.drop('label',axis=1).values\n"
      ],
      "execution_count": 0,
      "outputs": []
    },
    {
      "metadata": {
        "id": "gXMwwgU--I0S",
        "colab_type": "code",
        "colab": {
          "base_uri": "https://localhost:8080/",
          "height": 50
        },
        "outputId": "da24059b-3b40-4083-d6d3-59fc3db9e1b6"
      },
      "cell_type": "code",
      "source": [
        "# Normalising image pixels between 0 to 1\n",
        "\n",
        "X = X/255\n",
        "print(Y.shape)\n",
        "print(X.shape)"
      ],
      "execution_count": 26,
      "outputs": [
        {
          "output_type": "stream",
          "text": [
            "(42000,)\n",
            "(42000, 784)\n"
          ],
          "name": "stdout"
        }
      ]
    },
    {
      "metadata": {
        "id": "UsoVKvbN-fKv",
        "colab_type": "code",
        "colab": {
          "base_uri": "https://localhost:8080/",
          "height": 34
        },
        "outputId": "ffabe9f0-df32-4f21-c525-3e27fa6ea20e"
      },
      "cell_type": "code",
      "source": [
        "# reshaping the image \n",
        "\n",
        "X = X.reshape(X.shape[0],28,28,1)\n",
        "Y.shape\n"
      ],
      "execution_count": 28,
      "outputs": [
        {
          "output_type": "execute_result",
          "data": {
            "text/plain": [
              "(42000,)"
            ]
          },
          "metadata": {
            "tags": []
          },
          "execution_count": 28
        }
      ]
    },
    {
      "metadata": {
        "id": "fR8w_4H9-nfP",
        "colab_type": "code",
        "colab": {}
      },
      "cell_type": "code",
      "source": [
        "# One hot encoding \n",
        "\n",
        "Y = keras.utils.to_categorical(Y)"
      ],
      "execution_count": 0,
      "outputs": []
    },
    {
      "metadata": {
        "id": "VvF7XzpP_JRx",
        "colab_type": "code",
        "colab": {}
      },
      "cell_type": "code",
      "source": [
        "# Splitting data into training and testing data\n",
        "\n",
        "train_X,test_X,train_Y,test_Y = train_test_split(X, Y, test_size = 0.2, random_state = 42)"
      ],
      "execution_count": 0,
      "outputs": []
    },
    {
      "metadata": {
        "id": "brG06My_vjLs",
        "colab_type": "text"
      },
      "cell_type": "markdown",
      "source": [
        "# **BUILDING THE MODEL**"
      ]
    },
    {
      "metadata": {
        "id": "oDBmlxZNADaL",
        "colab_type": "code",
        "colab": {}
      },
      "cell_type": "code",
      "source": [
        "# Model building\n",
        "\n",
        "def make_model():\n",
        "  model = keras.Sequential()\n",
        "  \n",
        "  #convolutional layer with rectified linear unit activation\n",
        "  model.add(keras.layers.Conv2D(32, (3,3), input_shape = (28,28,1), activation = 'relu' ) ) #32 filters each of size (3,3)\n",
        "\n",
        "  model.add(keras.layers.Conv2D(64, (3,3), activation = 'relu' ) ) #64 filters each of size (3,3)\n",
        "  \n",
        "  #pooling layer \n",
        "  model.add(keras.layers.MaxPooling2D( pool_size = (2,2) ) )\n",
        "  \n",
        "  # randomly switching off and on neurons to improve convergence\n",
        "  model.add(keras.layers.Dropout(0.33))\n",
        "  \n",
        "  # fully connected neural network\n",
        "  model.add(keras.layers.Flatten())\n",
        "  model.add(keras.layers.Dense(128, activation='relu'))\n",
        "  \n",
        "  model.add(keras.layers.Dropout(0.5))\n",
        "  \n",
        "  # converting matrix into probabalities using softmax activation\n",
        "  model.add(keras.layers.Dense(10, activation='softmax'))\n",
        "  \n",
        "  model.compile( optimizer='adam', loss='categorical_crossentropy', metrics=['accuracy'] )\n",
        "  \n",
        "  return model\n"
      ],
      "execution_count": 0,
      "outputs": []
    },
    {
      "metadata": {
        "id": "EZPlWZXbwCt4",
        "colab_type": "text"
      },
      "cell_type": "markdown",
      "source": [
        "# **TRAINING AND EVALUATING MODEL**"
      ]
    },
    {
      "metadata": {
        "id": "Pfxnqm_ICIPe",
        "colab_type": "code",
        "colab": {
          "base_uri": "https://localhost:8080/",
          "height": 874
        },
        "outputId": "4b31516e-d840-4cce-cc16-067a3b2791c0"
      },
      "cell_type": "code",
      "source": [
        "model = make_model()\n",
        "\n",
        "log = model.fit(train_X, train_Y, batch_size=200, epochs = 25, verbose=1, validation_data = (test_X,test_Y)) # training the model\n"
      ],
      "execution_count": 57,
      "outputs": [
        {
          "output_type": "stream",
          "text": [
            "Train on 33600 samples, validate on 8400 samples\n",
            "Epoch 1/25\n",
            "33600/33600 [==============================] - 6s 179us/step - loss: 0.3983 - acc: 0.8768 - val_loss: 0.1014 - val_acc: 0.9712\n",
            "Epoch 2/25\n",
            "33600/33600 [==============================] - 5s 150us/step - loss: 0.1206 - acc: 0.9640 - val_loss: 0.0608 - val_acc: 0.9815\n",
            "Epoch 3/25\n",
            "33600/33600 [==============================] - 5s 150us/step - loss: 0.0862 - acc: 0.9742 - val_loss: 0.0533 - val_acc: 0.9839\n",
            "Epoch 4/25\n",
            "33600/33600 [==============================] - 5s 149us/step - loss: 0.0705 - acc: 0.9789 - val_loss: 0.0469 - val_acc: 0.9861\n",
            "Epoch 5/25\n",
            "33600/33600 [==============================] - 5s 148us/step - loss: 0.0626 - acc: 0.9805 - val_loss: 0.0388 - val_acc: 0.9875\n",
            "Epoch 6/25\n",
            "33600/33600 [==============================] - 5s 147us/step - loss: 0.0520 - acc: 0.9848 - val_loss: 0.0402 - val_acc: 0.9873\n",
            "Epoch 7/25\n",
            "33600/33600 [==============================] - 5s 147us/step - loss: 0.0468 - acc: 0.9848 - val_loss: 0.0363 - val_acc: 0.9881\n",
            "Epoch 8/25\n",
            "33600/33600 [==============================] - 5s 146us/step - loss: 0.0417 - acc: 0.9867 - val_loss: 0.0377 - val_acc: 0.9886\n",
            "Epoch 9/25\n",
            "33600/33600 [==============================] - 5s 147us/step - loss: 0.0365 - acc: 0.9878 - val_loss: 0.0372 - val_acc: 0.9901\n",
            "Epoch 10/25\n",
            "33600/33600 [==============================] - 5s 147us/step - loss: 0.0344 - acc: 0.9889 - val_loss: 0.0370 - val_acc: 0.9894\n",
            "Epoch 11/25\n",
            "33600/33600 [==============================] - 5s 148us/step - loss: 0.0329 - acc: 0.9894 - val_loss: 0.0419 - val_acc: 0.9882\n",
            "Epoch 12/25\n",
            "33600/33600 [==============================] - 5s 149us/step - loss: 0.0283 - acc: 0.9904 - val_loss: 0.0366 - val_acc: 0.9901\n",
            "Epoch 13/25\n",
            "33600/33600 [==============================] - 5s 151us/step - loss: 0.0289 - acc: 0.9904 - val_loss: 0.0375 - val_acc: 0.9898\n",
            "Epoch 14/25\n",
            "33600/33600 [==============================] - 5s 151us/step - loss: 0.0265 - acc: 0.9917 - val_loss: 0.0363 - val_acc: 0.9905\n",
            "Epoch 15/25\n",
            "33600/33600 [==============================] - 5s 151us/step - loss: 0.0238 - acc: 0.9926 - val_loss: 0.0325 - val_acc: 0.9906\n",
            "Epoch 16/25\n",
            "33600/33600 [==============================] - 5s 151us/step - loss: 0.0221 - acc: 0.9924 - val_loss: 0.0377 - val_acc: 0.9888\n",
            "Epoch 17/25\n",
            "33600/33600 [==============================] - 5s 151us/step - loss: 0.0213 - acc: 0.9932 - val_loss: 0.0365 - val_acc: 0.9899\n",
            "Epoch 18/25\n",
            "33600/33600 [==============================] - 5s 150us/step - loss: 0.0188 - acc: 0.9938 - val_loss: 0.0370 - val_acc: 0.9900\n",
            "Epoch 19/25\n",
            "33600/33600 [==============================] - 5s 152us/step - loss: 0.0201 - acc: 0.9931 - val_loss: 0.0387 - val_acc: 0.9913\n",
            "Epoch 20/25\n",
            "33600/33600 [==============================] - 5s 151us/step - loss: 0.0191 - acc: 0.9935 - val_loss: 0.0402 - val_acc: 0.9902\n",
            "Epoch 21/25\n",
            "33600/33600 [==============================] - 5s 150us/step - loss: 0.0196 - acc: 0.9934 - val_loss: 0.0381 - val_acc: 0.9905\n",
            "Epoch 22/25\n",
            "33600/33600 [==============================] - 5s 150us/step - loss: 0.0181 - acc: 0.9940 - val_loss: 0.0394 - val_acc: 0.9908\n",
            "Epoch 23/25\n",
            "33600/33600 [==============================] - 5s 151us/step - loss: 0.0174 - acc: 0.9942 - val_loss: 0.0413 - val_acc: 0.9899\n",
            "Epoch 24/25\n",
            "33600/33600 [==============================] - 5s 150us/step - loss: 0.0152 - acc: 0.9947 - val_loss: 0.0388 - val_acc: 0.9905\n",
            "Epoch 25/25\n",
            "33600/33600 [==============================] - 5s 152us/step - loss: 0.0143 - acc: 0.9953 - val_loss: 0.0362 - val_acc: 0.9913\n"
          ],
          "name": "stdout"
        }
      ]
    },
    {
      "metadata": {
        "id": "ndihqbzGwhwU",
        "colab_type": "code",
        "colab": {
          "base_uri": "https://localhost:8080/",
          "height": 84
        },
        "outputId": "191a87e5-39ed-4554-c59d-f56ff9e88ceb"
      },
      "cell_type": "code",
      "source": [
        "scores = model.evaluate(test_X, test_Y, verbose=1) # evaluating the model\n",
        "\n",
        "print(\"\\nAccuracy: {} \\n Error: {}\".format(scores[1], 100-scores[1]*100))"
      ],
      "execution_count": 58,
      "outputs": [
        {
          "output_type": "stream",
          "text": [
            "8400/8400 [==============================] - 1s 145us/step\n",
            "\n",
            "Accuracy: 0.9913095238095239 \n",
            " Error: 0.8690476190476204\n"
          ],
          "name": "stdout"
        }
      ]
    },
    {
      "metadata": {
        "id": "S1Z_tVjY02mA",
        "colab_type": "code",
        "colab": {}
      },
      "cell_type": "code",
      "source": [
        ""
      ],
      "execution_count": 0,
      "outputs": []
    }
  ]
}